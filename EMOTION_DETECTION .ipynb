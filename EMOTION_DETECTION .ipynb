{
  "cells": [
    {
      "cell_type": "markdown",
      "metadata": {
        "id": "PWAqJQcTZmup"
      },
      "source": [
        "IMPORTING THE DATA FROM KAGGLE"
      ]
    },
    {
      "cell_type": "code",
      "execution_count": null,
      "metadata": {
        "colab": {
          "base_uri": "https://localhost:8080/",
          "height": 74,
          "resources": {
            "http://localhost:8080/nbextensions/google.colab/files.js": {
              "data": "Ly8gQ29weXJpZ2h0IDIwMTcgR29vZ2xlIExMQwovLwovLyBMaWNlbnNlZCB1bmRlciB0aGUgQXBhY2hlIExpY2Vuc2UsIFZlcnNpb24gMi4wICh0aGUgIkxpY2Vuc2UiKTsKLy8geW91IG1heSBub3QgdXNlIHRoaXMgZmlsZSBleGNlcHQgaW4gY29tcGxpYW5jZSB3aXRoIHRoZSBMaWNlbnNlLgovLyBZb3UgbWF5IG9idGFpbiBhIGNvcHkgb2YgdGhlIExpY2Vuc2UgYXQKLy8KLy8gICAgICBodHRwOi8vd3d3LmFwYWNoZS5vcmcvbGljZW5zZXMvTElDRU5TRS0yLjAKLy8KLy8gVW5sZXNzIHJlcXVpcmVkIGJ5IGFwcGxpY2FibGUgbGF3IG9yIGFncmVlZCB0byBpbiB3cml0aW5nLCBzb2Z0d2FyZQovLyBkaXN0cmlidXRlZCB1bmRlciB0aGUgTGljZW5zZSBpcyBkaXN0cmlidXRlZCBvbiBhbiAiQVMgSVMiIEJBU0lTLAovLyBXSVRIT1VUIFdBUlJBTlRJRVMgT1IgQ09ORElUSU9OUyBPRiBBTlkgS0lORCwgZWl0aGVyIGV4cHJlc3Mgb3IgaW1wbGllZC4KLy8gU2VlIHRoZSBMaWNlbnNlIGZvciB0aGUgc3BlY2lmaWMgbGFuZ3VhZ2UgZ292ZXJuaW5nIHBlcm1pc3Npb25zIGFuZAovLyBsaW1pdGF0aW9ucyB1bmRlciB0aGUgTGljZW5zZS4KCi8qKgogKiBAZmlsZW92ZXJ2aWV3IEhlbHBlcnMgZm9yIGdvb2dsZS5jb2xhYiBQeXRob24gbW9kdWxlLgogKi8KKGZ1bmN0aW9uKHNjb3BlKSB7CmZ1bmN0aW9uIHNwYW4odGV4dCwgc3R5bGVBdHRyaWJ1dGVzID0ge30pIHsKICBjb25zdCBlbGVtZW50ID0gZG9jdW1lbnQuY3JlYXRlRWxlbWVudCgnc3BhbicpOwogIGVsZW1lbnQudGV4dENvbnRlbnQgPSB0ZXh0OwogIGZvciAoY29uc3Qga2V5IG9mIE9iamVjdC5rZXlzKHN0eWxlQXR0cmlidXRlcykpIHsKICAgIGVsZW1lbnQuc3R5bGVba2V5XSA9IHN0eWxlQXR0cmlidXRlc1trZXldOwogIH0KICByZXR1cm4gZWxlbWVudDsKfQoKLy8gTWF4IG51bWJlciBvZiBieXRlcyB3aGljaCB3aWxsIGJlIHVwbG9hZGVkIGF0IGEgdGltZS4KY29uc3QgTUFYX1BBWUxPQURfU0laRSA9IDEwMCAqIDEwMjQ7CgpmdW5jdGlvbiBfdXBsb2FkRmlsZXMoaW5wdXRJZCwgb3V0cHV0SWQpIHsKICBjb25zdCBzdGVwcyA9IHVwbG9hZEZpbGVzU3RlcChpbnB1dElkLCBvdXRwdXRJZCk7CiAgY29uc3Qgb3V0cHV0RWxlbWVudCA9IGRvY3VtZW50LmdldEVsZW1lbnRCeUlkKG91dHB1dElkKTsKICAvLyBDYWNoZSBzdGVwcyBvbiB0aGUgb3V0cHV0RWxlbWVudCB0byBtYWtlIGl0IGF2YWlsYWJsZSBmb3IgdGhlIG5leHQgY2FsbAogIC8vIHRvIHVwbG9hZEZpbGVzQ29udGludWUgZnJvbSBQeXRob24uCiAgb3V0cHV0RWxlbWVudC5zdGVwcyA9IHN0ZXBzOwoKICByZXR1cm4gX3VwbG9hZEZpbGVzQ29udGludWUob3V0cHV0SWQpOwp9CgovLyBUaGlzIGlzIHJvdWdobHkgYW4gYXN5bmMgZ2VuZXJhdG9yIChub3Qgc3VwcG9ydGVkIGluIHRoZSBicm93c2VyIHlldCksCi8vIHdoZXJlIHRoZXJlIGFyZSBtdWx0aXBsZSBhc3luY2hyb25vdXMgc3RlcHMgYW5kIHRoZSBQeXRob24gc2lkZSBpcyBnb2luZwovLyB0byBwb2xsIGZvciBjb21wbGV0aW9uIG9mIGVhY2ggc3RlcC4KLy8gVGhpcyB1c2VzIGEgUHJvbWlzZSB0byBibG9jayB0aGUgcHl0aG9uIHNpZGUgb24gY29tcGxldGlvbiBvZiBlYWNoIHN0ZXAsCi8vIHRoZW4gcGFzc2VzIHRoZSByZXN1bHQgb2YgdGhlIHByZXZpb3VzIHN0ZXAgYXMgdGhlIGlucHV0IHRvIHRoZSBuZXh0IHN0ZXAuCmZ1bmN0aW9uIF91cGxvYWRGaWxlc0NvbnRpbnVlKG91dHB1dElkKSB7CiAgY29uc3Qgb3V0cHV0RWxlbWVudCA9IGRvY3VtZW50LmdldEVsZW1lbnRCeUlkKG91dHB1dElkKTsKICBjb25zdCBzdGVwcyA9IG91dHB1dEVsZW1lbnQuc3RlcHM7CgogIGNvbnN0IG5leHQgPSBzdGVwcy5uZXh0KG91dHB1dEVsZW1lbnQubGFzdFByb21pc2VWYWx1ZSk7CiAgcmV0dXJuIFByb21pc2UucmVzb2x2ZShuZXh0LnZhbHVlLnByb21pc2UpLnRoZW4oKHZhbHVlKSA9PiB7CiAgICAvLyBDYWNoZSB0aGUgbGFzdCBwcm9taXNlIHZhbHVlIHRvIG1ha2UgaXQgYXZhaWxhYmxlIHRvIHRoZSBuZXh0CiAgICAvLyBzdGVwIG9mIHRoZSBnZW5lcmF0b3IuCiAgICBvdXRwdXRFbGVtZW50Lmxhc3RQcm9taXNlVmFsdWUgPSB2YWx1ZTsKICAgIHJldHVybiBuZXh0LnZhbHVlLnJlc3BvbnNlOwogIH0pOwp9CgovKioKICogR2VuZXJhdG9yIGZ1bmN0aW9uIHdoaWNoIGlzIGNhbGxlZCBiZXR3ZWVuIGVhY2ggYXN5bmMgc3RlcCBvZiB0aGUgdXBsb2FkCiAqIHByb2Nlc3MuCiAqIEBwYXJhbSB7c3RyaW5nfSBpbnB1dElkIEVsZW1lbnQgSUQgb2YgdGhlIGlucHV0IGZpbGUgcGlja2VyIGVsZW1lbnQuCiAqIEBwYXJhbSB7c3RyaW5nfSBvdXRwdXRJZCBFbGVtZW50IElEIG9mIHRoZSBvdXRwdXQgZGlzcGxheS4KICogQHJldHVybiB7IUl0ZXJhYmxlPCFPYmplY3Q+fSBJdGVyYWJsZSBvZiBuZXh0IHN0ZXBzLgogKi8KZnVuY3Rpb24qIHVwbG9hZEZpbGVzU3RlcChpbnB1dElkLCBvdXRwdXRJZCkgewogIGNvbnN0IGlucHV0RWxlbWVudCA9IGRvY3VtZW50LmdldEVsZW1lbnRCeUlkKGlucHV0SWQpOwogIGlucHV0RWxlbWVudC5kaXNhYmxlZCA9IGZhbHNlOwoKICBjb25zdCBvdXRwdXRFbGVtZW50ID0gZG9jdW1lbnQuZ2V0RWxlbWVudEJ5SWQob3V0cHV0SWQpOwogIG91dHB1dEVsZW1lbnQuaW5uZXJIVE1MID0gJyc7CgogIGNvbnN0IHBpY2tlZFByb21pc2UgPSBuZXcgUHJvbWlzZSgocmVzb2x2ZSkgPT4gewogICAgaW5wdXRFbGVtZW50LmFkZEV2ZW50TGlzdGVuZXIoJ2NoYW5nZScsIChlKSA9PiB7CiAgICAgIHJlc29sdmUoZS50YXJnZXQuZmlsZXMpOwogICAgfSk7CiAgfSk7CgogIGNvbnN0IGNhbmNlbCA9IGRvY3VtZW50LmNyZWF0ZUVsZW1lbnQoJ2J1dHRvbicpOwogIGlucHV0RWxlbWVudC5wYXJlbnRFbGVtZW50LmFwcGVuZENoaWxkKGNhbmNlbCk7CiAgY2FuY2VsLnRleHRDb250ZW50ID0gJ0NhbmNlbCB1cGxvYWQnOwogIGNvbnN0IGNhbmNlbFByb21pc2UgPSBuZXcgUHJvbWlzZSgocmVzb2x2ZSkgPT4gewogICAgY2FuY2VsLm9uY2xpY2sgPSAoKSA9PiB7CiAgICAgIHJlc29sdmUobnVsbCk7CiAgICB9OwogIH0pOwoKICAvLyBXYWl0IGZvciB0aGUgdXNlciB0byBwaWNrIHRoZSBmaWxlcy4KICBjb25zdCBmaWxlcyA9IHlpZWxkIHsKICAgIHByb21pc2U6IFByb21pc2UucmFjZShbcGlja2VkUHJvbWlzZSwgY2FuY2VsUHJvbWlzZV0pLAogICAgcmVzcG9uc2U6IHsKICAgICAgYWN0aW9uOiAnc3RhcnRpbmcnLAogICAgfQogIH07CgogIGNhbmNlbC5yZW1vdmUoKTsKCiAgLy8gRGlzYWJsZSB0aGUgaW5wdXQgZWxlbWVudCBzaW5jZSBmdXJ0aGVyIHBpY2tzIGFyZSBub3QgYWxsb3dlZC4KICBpbnB1dEVsZW1lbnQuZGlzYWJsZWQgPSB0cnVlOwoKICBpZiAoIWZpbGVzKSB7CiAgICByZXR1cm4gewogICAgICByZXNwb25zZTogewogICAgICAgIGFjdGlvbjogJ2NvbXBsZXRlJywKICAgICAgfQogICAgfTsKICB9CgogIGZvciAoY29uc3QgZmlsZSBvZiBmaWxlcykgewogICAgY29uc3QgbGkgPSBkb2N1bWVudC5jcmVhdGVFbGVtZW50KCdsaScpOwogICAgbGkuYXBwZW5kKHNwYW4oZmlsZS5uYW1lLCB7Zm9udFdlaWdodDogJ2JvbGQnfSkpOwogICAgbGkuYXBwZW5kKHNwYW4oCiAgICAgICAgYCgke2ZpbGUudHlwZSB8fCAnbi9hJ30pIC0gJHtmaWxlLnNpemV9IGJ5dGVzLCBgICsKICAgICAgICBgbGFzdCBtb2RpZmllZDogJHsKICAgICAgICAgICAgZmlsZS5sYXN0TW9kaWZpZWREYXRlID8gZmlsZS5sYXN0TW9kaWZpZWREYXRlLnRvTG9jYWxlRGF0ZVN0cmluZygpIDoKICAgICAgICAgICAgICAgICAgICAgICAgICAgICAgICAgICAgJ24vYSd9IC0gYCkpOwogICAgY29uc3QgcGVyY2VudCA9IHNwYW4oJzAlIGRvbmUnKTsKICAgIGxpLmFwcGVuZENoaWxkKHBlcmNlbnQpOwoKICAgIG91dHB1dEVsZW1lbnQuYXBwZW5kQ2hpbGQobGkpOwoKICAgIGNvbnN0IGZpbGVEYXRhUHJvbWlzZSA9IG5ldyBQcm9taXNlKChyZXNvbHZlKSA9PiB7CiAgICAgIGNvbnN0IHJlYWRlciA9IG5ldyBGaWxlUmVhZGVyKCk7CiAgICAgIHJlYWRlci5vbmxvYWQgPSAoZSkgPT4gewogICAgICAgIHJlc29sdmUoZS50YXJnZXQucmVzdWx0KTsKICAgICAgfTsKICAgICAgcmVhZGVyLnJlYWRBc0FycmF5QnVmZmVyKGZpbGUpOwogICAgfSk7CiAgICAvLyBXYWl0IGZvciB0aGUgZGF0YSB0byBiZSByZWFkeS4KICAgIGxldCBmaWxlRGF0YSA9IHlpZWxkIHsKICAgICAgcHJvbWlzZTogZmlsZURhdGFQcm9taXNlLAogICAgICByZXNwb25zZTogewogICAgICAgIGFjdGlvbjogJ2NvbnRpbnVlJywKICAgICAgfQogICAgfTsKCiAgICAvLyBVc2UgYSBjaHVua2VkIHNlbmRpbmcgdG8gYXZvaWQgbWVzc2FnZSBzaXplIGxpbWl0cy4gU2VlIGIvNjIxMTU2NjAuCiAgICBsZXQgcG9zaXRpb24gPSAwOwogICAgZG8gewogICAgICBjb25zdCBsZW5ndGggPSBNYXRoLm1pbihmaWxlRGF0YS5ieXRlTGVuZ3RoIC0gcG9zaXRpb24sIE1BWF9QQVlMT0FEX1NJWkUpOwogICAgICBjb25zdCBjaHVuayA9IG5ldyBVaW50OEFycmF5KGZpbGVEYXRhLCBwb3NpdGlvbiwgbGVuZ3RoKTsKICAgICAgcG9zaXRpb24gKz0gbGVuZ3RoOwoKICAgICAgY29uc3QgYmFzZTY0ID0gYnRvYShTdHJpbmcuZnJvbUNoYXJDb2RlLmFwcGx5KG51bGwsIGNodW5rKSk7CiAgICAgIHlpZWxkIHsKICAgICAgICByZXNwb25zZTogewogICAgICAgICAgYWN0aW9uOiAnYXBwZW5kJywKICAgICAgICAgIGZpbGU6IGZpbGUubmFtZSwKICAgICAgICAgIGRhdGE6IGJhc2U2NCwKICAgICAgICB9LAogICAgICB9OwoKICAgICAgbGV0IHBlcmNlbnREb25lID0gZmlsZURhdGEuYnl0ZUxlbmd0aCA9PT0gMCA/CiAgICAgICAgICAxMDAgOgogICAgICAgICAgTWF0aC5yb3VuZCgocG9zaXRpb24gLyBmaWxlRGF0YS5ieXRlTGVuZ3RoKSAqIDEwMCk7CiAgICAgIHBlcmNlbnQudGV4dENvbnRlbnQgPSBgJHtwZXJjZW50RG9uZX0lIGRvbmVgOwoKICAgIH0gd2hpbGUgKHBvc2l0aW9uIDwgZmlsZURhdGEuYnl0ZUxlbmd0aCk7CiAgfQoKICAvLyBBbGwgZG9uZS4KICB5aWVsZCB7CiAgICByZXNwb25zZTogewogICAgICBhY3Rpb246ICdjb21wbGV0ZScsCiAgICB9CiAgfTsKfQoKc2NvcGUuZ29vZ2xlID0gc2NvcGUuZ29vZ2xlIHx8IHt9OwpzY29wZS5nb29nbGUuY29sYWIgPSBzY29wZS5nb29nbGUuY29sYWIgfHwge307CnNjb3BlLmdvb2dsZS5jb2xhYi5fZmlsZXMgPSB7CiAgX3VwbG9hZEZpbGVzLAogIF91cGxvYWRGaWxlc0NvbnRpbnVlLAp9Owp9KShzZWxmKTsK",
              "headers": [
                [
                  "content-type",
                  "application/javascript"
                ]
              ],
              "ok": true,
              "status": 200,
              "status_text": ""
            }
          }
        },
        "id": "_Q06HcfAHueI",
        "outputId": "810baabc-ddb0-4ea9-d581-28c9ddacfa2e"
      },
      "outputs": [
        {
          "data": {
            "text/html": [
              "\n",
              "     <input type=\"file\" id=\"files-0b588c77-39ea-4654-b891-ffff25b52086\" name=\"files[]\" multiple disabled\n",
              "        style=\"border:none\" />\n",
              "     <output id=\"result-0b588c77-39ea-4654-b891-ffff25b52086\">\n",
              "      Upload widget is only available when the cell has been executed in the\n",
              "      current browser session. Please rerun this cell to enable.\n",
              "      </output>\n",
              "      <script src=\"/nbextensions/google.colab/files.js\"></script> "
            ],
            "text/plain": [
              "<IPython.core.display.HTML object>"
            ]
          },
          "metadata": {},
          "output_type": "display_data"
        },
        {
          "name": "stdout",
          "output_type": "stream",
          "text": [
            "Saving kaggle.json to kaggle.json\n"
          ]
        }
      ],
      "source": [
        "! pip install -q kaggle\n",
        "from google.colab import files\n",
        "\n",
        "files.upload()\n",
        "! mkdir ~/.kaggle\n",
        "! cp kaggle.json ~/.kaggle/\n",
        "! chmod 600 ~/.kaggle/kaggle.json"
      ]
    },
    {
      "cell_type": "code",
      "execution_count": null,
      "metadata": {
        "colab": {
          "base_uri": "https://localhost:8080/"
        },
        "id": "bCE84feoH3Qm",
        "outputId": "c44d6249-976f-46aa-af98-63b7a9b8d26c"
      },
      "outputs": [
        {
          "name": "stdout",
          "output_type": "stream",
          "text": [
            "Downloading emotions-dataset-for-nlp.zip to /content\n",
            "\r  0% 0.00/721k [00:00<?, ?B/s]\n",
            "\r100% 721k/721k [00:00<00:00, 138MB/s]\n"
          ]
        }
      ],
      "source": [
        "!kaggle datasets download -d praveengovi/emotions-dataset-for-nlp"
      ]
    },
    {
      "cell_type": "code",
      "execution_count": null,
      "metadata": {
        "colab": {
          "base_uri": "https://localhost:8080/"
        },
        "id": "uOoFe88xIKMj",
        "outputId": "20e48d28-6563-4fa0-8533-3ac22098f543"
      },
      "outputs": [
        {
          "name": "stdout",
          "output_type": "stream",
          "text": [
            "Archive:  emotions-dataset-for-nlp.zip\n",
            "  inflating: test.txt                \n",
            "  inflating: train.txt               \n",
            "  inflating: val.txt                 \n"
          ]
        }
      ],
      "source": [
        "!unzip emotions-dataset-for-nlp.zip"
      ]
    },
    {
      "cell_type": "markdown",
      "metadata": {
        "id": "ZmayZXfgZve-"
      },
      "source": [
        "### **IMPORTING** IMPOTANT LIBRARIES"
      ]
    },
    {
      "cell_type": "code",
      "execution_count": null,
      "metadata": {
        "id": "BtU5CLk3IQhe"
      },
      "outputs": [],
      "source": [
        "import numpy as np\n",
        "import pandas as pd\n",
        "import seaborn as sns\n",
        "import joblib\n",
        "import matplotlib.pyplot as plt\n",
        "%matplotlib inline\n",
        "\n",
        "from sklearn import linear_model\n",
        "from sklearn.linear_model import LinearRegression\n",
        "model = LinearRegression()\n",
        "\n",
        "from sklearn.preprocessing import LabelEncoder\n",
        "\n",
        "from sklearn.model_selection import train_test_split\n",
        "\n",
        "from sklearn.linear_model import LogisticRegression\n",
        "modell= LogisticRegression()\n",
        "\n",
        "from sklearn.metrics import confusion_matrix\n",
        "\n",
        "from sklearn import tree\n",
        "modeld=tree.DecisionTreeClassifier()\n",
        "\n",
        "from sklearn.svm import SVC\n",
        "models=SVC()\n",
        "\n",
        "from sklearn.ensemble import RandomForestClassifier\n",
        "modelr=RandomForestClassifier()\n",
        "\n",
        "from sklearn.model_selection import cross_val_score\n",
        "\n",
        "from sklearn.cluster import KMeans\n",
        "\n",
        "from sklearn.preprocessing import MinMaxScaler\n",
        "\n",
        "from sklearn.naive_bayes import GaussianNB\n",
        "modelg=GaussianNB()\n",
        "\n",
        "from sklearn.naive_bayes import MultinomialNB\n",
        "modelm=MultinomialNB()\n",
        "\n",
        "from sklearn.pipeline import Pipeline\n",
        "\n",
        "from sklearn.feature_extraction.text import CountVectorizer\n",
        "v=CountVectorizer()\n",
        "\n",
        "from sklearn.model_selection import GridSearchCV\n",
        "\n",
        "from sklearn.model_selection import RandomizedSearchCV"
      ]
    },
    {
      "cell_type": "code",
      "execution_count": null,
      "metadata": {
        "colab": {
          "base_uri": "https://localhost:8080/",
          "height": 206
        },
        "id": "30sPZHFYIXua",
        "outputId": "44a913ab-bf2b-43bb-ddd3-9f6c29619aa4"
      },
      "outputs": [
        {
          "data": {
            "text/html": [
              "\n",
              "  <div id=\"df-6635ed26-a426-4c00-9774-35cf8bf25046\">\n",
              "    <div class=\"colab-df-container\">\n",
              "      <div>\n",
              "<style scoped>\n",
              "    .dataframe tbody tr th:only-of-type {\n",
              "        vertical-align: middle;\n",
              "    }\n",
              "\n",
              "    .dataframe tbody tr th {\n",
              "        vertical-align: top;\n",
              "    }\n",
              "\n",
              "    .dataframe thead th {\n",
              "        text-align: right;\n",
              "    }\n",
              "</style>\n",
              "<table border=\"1\" class=\"dataframe\">\n",
              "  <thead>\n",
              "    <tr style=\"text-align: right;\">\n",
              "      <th></th>\n",
              "      <th>sentence</th>\n",
              "      <th>label</th>\n",
              "    </tr>\n",
              "  </thead>\n",
              "  <tbody>\n",
              "    <tr>\n",
              "      <th>0</th>\n",
              "      <td>i didnt feel humiliated</td>\n",
              "      <td>sadness</td>\n",
              "    </tr>\n",
              "    <tr>\n",
              "      <th>1</th>\n",
              "      <td>i can go from feeling so hopeless to so damned...</td>\n",
              "      <td>sadness</td>\n",
              "    </tr>\n",
              "    <tr>\n",
              "      <th>2</th>\n",
              "      <td>im grabbing a minute to post i feel greedy wrong</td>\n",
              "      <td>anger</td>\n",
              "    </tr>\n",
              "    <tr>\n",
              "      <th>3</th>\n",
              "      <td>i am ever feeling nostalgic about the fireplac...</td>\n",
              "      <td>love</td>\n",
              "    </tr>\n",
              "    <tr>\n",
              "      <th>4</th>\n",
              "      <td>i am feeling grouchy</td>\n",
              "      <td>anger</td>\n",
              "    </tr>\n",
              "  </tbody>\n",
              "</table>\n",
              "</div>\n",
              "      <button class=\"colab-df-convert\" onclick=\"convertToInteractive('df-6635ed26-a426-4c00-9774-35cf8bf25046')\"\n",
              "              title=\"Convert this dataframe to an interactive table.\"\n",
              "              style=\"display:none;\">\n",
              "        \n",
              "  <svg xmlns=\"http://www.w3.org/2000/svg\" height=\"24px\"viewBox=\"0 0 24 24\"\n",
              "       width=\"24px\">\n",
              "    <path d=\"M0 0h24v24H0V0z\" fill=\"none\"/>\n",
              "    <path d=\"M18.56 5.44l.94 2.06.94-2.06 2.06-.94-2.06-.94-.94-2.06-.94 2.06-2.06.94zm-11 1L8.5 8.5l.94-2.06 2.06-.94-2.06-.94L8.5 2.5l-.94 2.06-2.06.94zm10 10l.94 2.06.94-2.06 2.06-.94-2.06-.94-.94-2.06-.94 2.06-2.06.94z\"/><path d=\"M17.41 7.96l-1.37-1.37c-.4-.4-.92-.59-1.43-.59-.52 0-1.04.2-1.43.59L10.3 9.45l-7.72 7.72c-.78.78-.78 2.05 0 2.83L4 21.41c.39.39.9.59 1.41.59.51 0 1.02-.2 1.41-.59l7.78-7.78 2.81-2.81c.8-.78.8-2.07 0-2.86zM5.41 20L4 18.59l7.72-7.72 1.47 1.35L5.41 20z\"/>\n",
              "  </svg>\n",
              "      </button>\n",
              "      \n",
              "  <style>\n",
              "    .colab-df-container {\n",
              "      display:flex;\n",
              "      flex-wrap:wrap;\n",
              "      gap: 12px;\n",
              "    }\n",
              "\n",
              "    .colab-df-convert {\n",
              "      background-color: #E8F0FE;\n",
              "      border: none;\n",
              "      border-radius: 50%;\n",
              "      cursor: pointer;\n",
              "      display: none;\n",
              "      fill: #1967D2;\n",
              "      height: 32px;\n",
              "      padding: 0 0 0 0;\n",
              "      width: 32px;\n",
              "    }\n",
              "\n",
              "    .colab-df-convert:hover {\n",
              "      background-color: #E2EBFA;\n",
              "      box-shadow: 0px 1px 2px rgba(60, 64, 67, 0.3), 0px 1px 3px 1px rgba(60, 64, 67, 0.15);\n",
              "      fill: #174EA6;\n",
              "    }\n",
              "\n",
              "    [theme=dark] .colab-df-convert {\n",
              "      background-color: #3B4455;\n",
              "      fill: #D2E3FC;\n",
              "    }\n",
              "\n",
              "    [theme=dark] .colab-df-convert:hover {\n",
              "      background-color: #434B5C;\n",
              "      box-shadow: 0px 1px 3px 1px rgba(0, 0, 0, 0.15);\n",
              "      filter: drop-shadow(0px 1px 2px rgba(0, 0, 0, 0.3));\n",
              "      fill: #FFFFFF;\n",
              "    }\n",
              "  </style>\n",
              "\n",
              "      <script>\n",
              "        const buttonEl =\n",
              "          document.querySelector('#df-6635ed26-a426-4c00-9774-35cf8bf25046 button.colab-df-convert');\n",
              "        buttonEl.style.display =\n",
              "          google.colab.kernel.accessAllowed ? 'block' : 'none';\n",
              "\n",
              "        async function convertToInteractive(key) {\n",
              "          const element = document.querySelector('#df-6635ed26-a426-4c00-9774-35cf8bf25046');\n",
              "          const dataTable =\n",
              "            await google.colab.kernel.invokeFunction('convertToInteractive',\n",
              "                                                     [key], {});\n",
              "          if (!dataTable) return;\n",
              "\n",
              "          const docLinkHtml = 'Like what you see? Visit the ' +\n",
              "            '<a target=\"_blank\" href=https://colab.research.google.com/notebooks/data_table.ipynb>data table notebook</a>'\n",
              "            + ' to learn more about interactive tables.';\n",
              "          element.innerHTML = '';\n",
              "          dataTable['output_type'] = 'display_data';\n",
              "          await google.colab.output.renderOutput(dataTable, element);\n",
              "          const docLink = document.createElement('div');\n",
              "          docLink.innerHTML = docLinkHtml;\n",
              "          element.appendChild(docLink);\n",
              "        }\n",
              "      </script>\n",
              "    </div>\n",
              "  </div>\n",
              "  "
            ],
            "text/plain": [
              "                                            sentence    label\n",
              "0                            i didnt feel humiliated  sadness\n",
              "1  i can go from feeling so hopeless to so damned...  sadness\n",
              "2   im grabbing a minute to post i feel greedy wrong    anger\n",
              "3  i am ever feeling nostalgic about the fireplac...     love\n",
              "4                               i am feeling grouchy    anger"
            ]
          },
          "execution_count": 5,
          "metadata": {},
          "output_type": "execute_result"
        }
      ],
      "source": [
        "df=pd.read_csv(\"/content/train.txt\", delimiter=';', header=None, names=['sentence','label'])\n",
        "df.head()"
      ]
    },
    {
      "cell_type": "code",
      "execution_count": null,
      "metadata": {
        "colab": {
          "base_uri": "https://localhost:8080/"
        },
        "id": "ESyjrdl6IxfD",
        "outputId": "c133d293-01b0-45ee-cce3-2813b9e4fe05"
      },
      "outputs": [
        {
          "data": {
            "text/plain": [
              "(16000, 2)"
            ]
          },
          "execution_count": 6,
          "metadata": {},
          "output_type": "execute_result"
        }
      ],
      "source": [
        "df.shape"
      ]
    },
    {
      "cell_type": "code",
      "execution_count": null,
      "metadata": {
        "colab": {
          "base_uri": "https://localhost:8080/"
        },
        "id": "ICEFC-88I0-G",
        "outputId": "029da172-e5b7-4128-84d2-12d64627baf9"
      },
      "outputs": [
        {
          "data": {
            "text/plain": [
              "joy         5362\n",
              "sadness     4666\n",
              "anger       2159\n",
              "fear        1937\n",
              "love        1304\n",
              "surprise     572\n",
              "Name: label, dtype: int64"
            ]
          },
          "execution_count": 7,
          "metadata": {},
          "output_type": "execute_result"
        }
      ],
      "source": [
        "df.label.value_counts()"
      ]
    },
    {
      "cell_type": "code",
      "execution_count": null,
      "metadata": {
        "colab": {
          "base_uri": "https://localhost:8080/",
          "height": 296
        },
        "id": "iaXrUaknI91y",
        "outputId": "862be70a-d052-4dda-db63-dd4e29224a5e"
      },
      "outputs": [
        {
          "data": {
            "text/plain": [
              "<matplotlib.axes._subplots.AxesSubplot at 0x7f352b240310>"
            ]
          },
          "execution_count": 8,
          "metadata": {},
          "output_type": "execute_result"
        },
        {
          "data": {
            "image/png": "[encoded data removed]",
            "text/plain": [
              "<Figure size 432x288 with 1 Axes>"
            ]
          },
          "metadata": {},
          "output_type": "display_data"
        }
      ],
      "source": [
        "sns.countplot(x='label', data=df)"
      ]
    },
    {
      "cell_type": "code",
      "execution_count": null,
      "metadata": {
        "colab": {
          "base_uri": "https://localhost:8080/"
        },
        "id": "j9aUZeG_JHj1",
        "outputId": "67728fea-6ed7-482b-ff8f-ec934ef329a4"
      },
      "outputs": [
        {
          "data": {
            "text/plain": [
              "sentence    0\n",
              "label       0\n",
              "dtype: int64"
            ]
          },
          "execution_count": 9,
          "metadata": {},
          "output_type": "execute_result"
        }
      ],
      "source": [
        "df.isnull().sum()"
      ]
    },
    {
      "cell_type": "code",
      "execution_count": null,
      "metadata": {
        "colab": {
          "base_uri": "https://localhost:8080/"
        },
        "id": "YtodR5KOKWft",
        "outputId": "819f6593-a3a7-4f72-daf3-e6169e952bc8"
      },
      "outputs": [
        {
          "data": {
            "text/plain": [
              "16000"
            ]
          },
          "execution_count": 10,
          "metadata": {},
          "output_type": "execute_result"
        }
      ],
      "source": [
        "len(df)"
      ]
    },
    {
      "cell_type": "markdown",
      "metadata": {
        "id": "J9qI418TZ3W5"
      },
      "source": [
        "### **STEMMING**"
      ]
    },
    {
      "cell_type": "code",
      "execution_count": null,
      "metadata": {
        "colab": {
          "base_uri": "https://localhost:8080/"
        },
        "id": "zUDYcbghJMxp",
        "outputId": "bfa17d19-71f6-4b8f-cad5-f56f1101844a"
      },
      "outputs": [
        {
          "name": "stderr",
          "output_type": "stream",
          "text": [
            "[nltk_data] Downloading package stopwords to /root/nltk_data...\n",
            "[nltk_data]   Unzipping corpora/stopwords.zip.\n"
          ]
        }
      ],
      "source": [
        "import nltk\n",
        "import re\n",
        "nltk.download('stopwords')\n",
        "from nltk.corpus import stopwords"
      ]
    },
    {
      "cell_type": "code",
      "execution_count": null,
      "metadata": {
        "id": "jUdTiUqCKE4y"
      },
      "outputs": [],
      "source": [
        "from nltk.stem.porter import PorterStemmer\n",
        "ps=PorterStemmer()\n",
        "corpus=[]\n",
        "for i in range(0,len(df)):\n",
        "  result=re.sub('[^a-zA-Z]',' ', df['sentence'][i])\n",
        "  result=result.lower()\n",
        "  result=result.split()\n",
        "\n",
        "  result=[ps.stem(word) for word in result if word not in stopwords.words('english')]\n",
        "  result=' '.join(result)\n",
        "  corpus.append(result)"
      ]
    },
    {
      "cell_type": "markdown",
      "metadata": {
        "id": "qZjvTljaaIvG"
      },
      "source": [
        "## ONE HOT REPRESENTATION"
      ]
    },
    {
      "cell_type": "code",
      "execution_count": null,
      "metadata": {
        "id": "R_mC8V8qLwe_"
      },
      "outputs": [],
      "source": [
        "voc_size=5000\n",
        "from tensorflow.keras.preprocessing.text import one_hot\n",
        "one_hot_rep=[one_hot(words,voc_size)for words in corpus]\n",
        "one_hot_rep"
      ]
    },
    {
      "cell_type": "code",
      "execution_count": null,
      "metadata": {
        "colab": {
          "base_uri": "https://localhost:8080/"
        },
        "id": "hwSY5CXYMc_3",
        "outputId": "69a2cb6a-877a-4a66-8539-b13669a40486"
      },
      "outputs": [
        {
          "data": {
            "text/plain": [
              "66"
            ]
          },
          "execution_count": 14,
          "metadata": {},
          "output_type": "execute_result"
        }
      ],
      "source": [
        "z=df['sentence'].str.split().str.len()\n",
        "z.max()"
      ]
    },
    {
      "cell_type": "markdown",
      "metadata": {
        "id": "KxXT0ujLaRBw"
      },
      "source": [
        "## PADDING THE ONE HOT REPRESENTATION"
      ]
    },
    {
      "cell_type": "code",
      "execution_count": null,
      "metadata": {
        "colab": {
          "base_uri": "https://localhost:8080/"
        },
        "id": "Gac9FFIFMpx4",
        "outputId": "a357437f-4387-4230-cf4a-3c92489e1a34"
      },
      "outputs": [
        {
          "data": {
            "text/plain": [
              "array([[   0,    0,    0, ...,  866,  830, 4759],\n",
              "       [   0,    0,    0, ..., 3990, 1135, 4871],\n",
              "       [   0,    0,    0, ...,  830, 4719, 3719],\n",
              "       ...,\n",
              "       [   0,    0,    0, ..., 3300, 3154, 2636],\n",
              "       [   0,    0,    0, ..., 2089, 2491, 2704],\n",
              "       [   0,    0,    0, ...,  830, 3704, 1873]], dtype=int32)"
            ]
          },
          "execution_count": 15,
          "metadata": {},
          "output_type": "execute_result"
        }
      ],
      "source": [
        "from tensorflow.keras.preprocessing.sequence import pad_sequences\n",
        "embedded_docs=pad_sequences(one_hot_rep,padding='pre',maxlen=z.max())\n",
        "embedded_docs"
      ]
    },
    {
      "cell_type": "markdown",
      "metadata": {
        "id": "H0Bba94cad6V"
      },
      "source": [
        "### **Importing required libraries for lstm model**"
      ]
    },
    {
      "cell_type": "markdown",
      "source": [
        ""
      ],
      "metadata": {
        "id": "vV0OBM2baDYg"
      }
    },
    {
      "cell_type": "code",
      "execution_count": null,
      "metadata": {
        "id": "fTcrXA_ANJHP"
      },
      "outputs": [],
      "source": [
        "\n",
        "import tensorflow as tf\n",
        "from tensorflow import keras\n",
        "import keras\n",
        "from tensorflow.keras import layers\n",
        "from keras.layers import Dense, Dropout, Embedding, LSTM, Bidirectional\n",
        "from tensorflow import keras\n",
        "from tensorflow.keras import layers\n",
        "from tensorflow.keras.models import Sequential\n",
        "from tensorflow.keras.layers import Dense\n",
        "\n",
        "\n",
        "from tensorflow.keras.layers import Embedding\n",
        "from tensorflow.keras.preprocessing.sequence import pad_sequences\n",
        "from tensorflow.keras.preprocessing.text import one_hot\n",
        "from tensorflow.keras.layers import LSTM"
      ]
    },
    {
      "cell_type": "code",
      "execution_count": null,
      "metadata": {
        "colab": {
          "base_uri": "https://localhost:8080/"
        },
        "id": "iJyHiwNyUEoj",
        "outputId": "2823e432-c14f-4da9-8b80-6667fcefb762"
      },
      "outputs": [
        {
          "data": {
            "text/plain": [
              "array(['sadness', 'anger', 'love', 'surprise', 'fear', 'joy'],\n",
              "      dtype=object)"
            ]
          },
          "execution_count": 17,
          "metadata": {},
          "output_type": "execute_result"
        }
      ],
      "source": [
        "df.label.unique()"
      ]
    },
    {
      "cell_type": "markdown",
      "metadata": {
        "id": "q6ZOz44UaoKH"
      },
      "source": [
        "## CONVERTING CATEGORICAL DATA "
      ]
    },
    {
      "cell_type": "code",
      "execution_count": null,
      "metadata": {
        "colab": {
          "base_uri": "https://localhost:8080/",
          "height": 206
        },
        "id": "hKzOgxipUSW5",
        "outputId": "7c427a2a-6b2a-4322-dbc8-135ad988704f"
      },
      "outputs": [
        {
          "data": {
            "text/html": [
              "\n",
              "  <div id=\"df-a805d283-757c-4952-9d12-b5557d01e8cf\">\n",
              "    <div class=\"colab-df-container\">\n",
              "      <div>\n",
              "<style scoped>\n",
              "    .dataframe tbody tr th:only-of-type {\n",
              "        vertical-align: middle;\n",
              "    }\n",
              "\n",
              "    .dataframe tbody tr th {\n",
              "        vertical-align: top;\n",
              "    }\n",
              "\n",
              "    .dataframe thead th {\n",
              "        text-align: right;\n",
              "    }\n",
              "</style>\n",
              "<table border=\"1\" class=\"dataframe\">\n",
              "  <thead>\n",
              "    <tr style=\"text-align: right;\">\n",
              "      <th></th>\n",
              "      <th>sentence</th>\n",
              "      <th>label</th>\n",
              "    </tr>\n",
              "  </thead>\n",
              "  <tbody>\n",
              "    <tr>\n",
              "      <th>0</th>\n",
              "      <td>i didnt feel humiliated</td>\n",
              "      <td>0</td>\n",
              "    </tr>\n",
              "    <tr>\n",
              "      <th>1</th>\n",
              "      <td>i can go from feeling so hopeless to so damned...</td>\n",
              "      <td>0</td>\n",
              "    </tr>\n",
              "    <tr>\n",
              "      <th>2</th>\n",
              "      <td>im grabbing a minute to post i feel greedy wrong</td>\n",
              "      <td>1</td>\n",
              "    </tr>\n",
              "    <tr>\n",
              "      <th>3</th>\n",
              "      <td>i am ever feeling nostalgic about the fireplac...</td>\n",
              "      <td>2</td>\n",
              "    </tr>\n",
              "    <tr>\n",
              "      <th>4</th>\n",
              "      <td>i am feeling grouchy</td>\n",
              "      <td>1</td>\n",
              "    </tr>\n",
              "  </tbody>\n",
              "</table>\n",
              "</div>\n",
              "      <button class=\"colab-df-convert\" onclick=\"convertToInteractive('df-a805d283-757c-4952-9d12-b5557d01e8cf')\"\n",
              "              title=\"Convert this dataframe to an interactive table.\"\n",
              "              style=\"display:none;\">\n",
              "        \n",
              "  <svg xmlns=\"http://www.w3.org/2000/svg\" height=\"24px\"viewBox=\"0 0 24 24\"\n",
              "       width=\"24px\">\n",
              "    <path d=\"M0 0h24v24H0V0z\" fill=\"none\"/>\n",
              "    <path d=\"M18.56 5.44l.94 2.06.94-2.06 2.06-.94-2.06-.94-.94-2.06-.94 2.06-2.06.94zm-11 1L8.5 8.5l.94-2.06 2.06-.94-2.06-.94L8.5 2.5l-.94 2.06-2.06.94zm10 10l.94 2.06.94-2.06 2.06-.94-2.06-.94-.94-2.06-.94 2.06-2.06.94z\"/><path d=\"M17.41 7.96l-1.37-1.37c-.4-.4-.92-.59-1.43-.59-.52 0-1.04.2-1.43.59L10.3 9.45l-7.72 7.72c-.78.78-.78 2.05 0 2.83L4 21.41c.39.39.9.59 1.41.59.51 0 1.02-.2 1.41-.59l7.78-7.78 2.81-2.81c.8-.78.8-2.07 0-2.86zM5.41 20L4 18.59l7.72-7.72 1.47 1.35L5.41 20z\"/>\n",
              "  </svg>\n",
              "      </button>\n",
              "      \n",
              "  <style>\n",
              "    .colab-df-container {\n",
              "      display:flex;\n",
              "      flex-wrap:wrap;\n",
              "      gap: 12px;\n",
              "    }\n",
              "\n",
              "    .colab-df-convert {\n",
              "      background-color: #E8F0FE;\n",
              "      border: none;\n",
              "      border-radius: 50%;\n",
              "      cursor: pointer;\n",
              "      display: none;\n",
              "      fill: #1967D2;\n",
              "      height: 32px;\n",
              "      padding: 0 0 0 0;\n",
              "      width: 32px;\n",
              "    }\n",
              "\n",
              "    .colab-df-convert:hover {\n",
              "      background-color: #E2EBFA;\n",
              "      box-shadow: 0px 1px 2px rgba(60, 64, 67, 0.3), 0px 1px 3px 1px rgba(60, 64, 67, 0.15);\n",
              "      fill: #174EA6;\n",
              "    }\n",
              "\n",
              "    [theme=dark] .colab-df-convert {\n",
              "      background-color: #3B4455;\n",
              "      fill: #D2E3FC;\n",
              "    }\n",
              "\n",
              "    [theme=dark] .colab-df-convert:hover {\n",
              "      background-color: #434B5C;\n",
              "      box-shadow: 0px 1px 3px 1px rgba(0, 0, 0, 0.15);\n",
              "      filter: drop-shadow(0px 1px 2px rgba(0, 0, 0, 0.3));\n",
              "      fill: #FFFFFF;\n",
              "    }\n",
              "  </style>\n",
              "\n",
              "      <script>\n",
              "        const buttonEl =\n",
              "          document.querySelector('#df-a805d283-757c-4952-9d12-b5557d01e8cf button.colab-df-convert');\n",
              "        buttonEl.style.display =\n",
              "          google.colab.kernel.accessAllowed ? 'block' : 'none';\n",
              "\n",
              "        async function convertToInteractive(key) {\n",
              "          const element = document.querySelector('#df-a805d283-757c-4952-9d12-b5557d01e8cf');\n",
              "          const dataTable =\n",
              "            await google.colab.kernel.invokeFunction('convertToInteractive',\n",
              "                                                     [key], {});\n",
              "          if (!dataTable) return;\n",
              "\n",
              "          const docLinkHtml = 'Like what you see? Visit the ' +\n",
              "            '<a target=\"_blank\" href=https://colab.research.google.com/notebooks/data_table.ipynb>data table notebook</a>'\n",
              "            + ' to learn more about interactive tables.';\n",
              "          element.innerHTML = '';\n",
              "          dataTable['output_type'] = 'display_data';\n",
              "          await google.colab.output.renderOutput(dataTable, element);\n",
              "          const docLink = document.createElement('div');\n",
              "          docLink.innerHTML = docLinkHtml;\n",
              "          element.appendChild(docLink);\n",
              "        }\n",
              "      </script>\n",
              "    </div>\n",
              "  </div>\n",
              "  "
            ],
            "text/plain": [
              "                                            sentence  label\n",
              "0                            i didnt feel humiliated      0\n",
              "1  i can go from feeling so hopeless to so damned...      0\n",
              "2   im grabbing a minute to post i feel greedy wrong      1\n",
              "3  i am ever feeling nostalgic about the fireplac...      2\n",
              "4                               i am feeling grouchy      1"
            ]
          },
          "execution_count": 18,
          "metadata": {},
          "output_type": "execute_result"
        }
      ],
      "source": [
        "df.replace(['sadness', 'anger', 'love', 'surprise', 'fear', 'joy'],[0,1,2,3,4,5],inplace=True)\n",
        "df.head()"
      ]
    },
    {
      "cell_type": "code",
      "execution_count": null,
      "metadata": {
        "id": "BnOaUzytUxmF"
      },
      "outputs": [],
      "source": [
        "y=df.label"
      ]
    },
    {
      "cell_type": "code",
      "execution_count": null,
      "metadata": {
        "id": "NMRh6hxRU5Cv"
      },
      "outputs": [],
      "source": [
        "x=np.array(embedded_docs)"
      ]
    },
    {
      "cell_type": "markdown",
      "metadata": {
        "id": "1K6sRazTavcs"
      },
      "source": [
        "### **SPLITTING DATA TO TRAIN AND TEST**"
      ]
    },
    {
      "cell_type": "code",
      "execution_count": null,
      "metadata": {
        "id": "CpqlKp7CVAX1"
      },
      "outputs": [],
      "source": [
        "x_train ,x_test, y_train ,y_test =train_test_split(x,y ,test_size=0.3)"
      ]
    },
    {
      "cell_type": "markdown",
      "metadata": {
        "id": "H2tBL21La3uV"
      },
      "source": [
        "### **BUILDING A NEURAL NETWORK WITH FEW LAYER**"
      ]
    },
    {
      "cell_type": "code",
      "execution_count": null,
      "metadata": {
        "id": "XdASY_T9VQwX"
      },
      "outputs": [],
      "source": [
        "embedding_vector_feature=50\n",
        "model_lstm=Sequential()\n",
        "model_lstm.add(Embedding(voc_size,embedding_vector_feature,input_length=z.max() )) ##EMBEDDING LAYER\n",
        "model_lstm.add(Bidirectional(LSTM(100)))  ##Bidirectinal LSTM layer\n",
        "model_lstm.add(Dense(25,activation='relu'))  ## Intermedidiate dense layer\n",
        "model_lstm.add(Dense(6,activation='softmax')) ## FINAL DENSE LAYER\n"
      ]
    },
    {
      "cell_type": "code",
      "execution_count": null,
      "metadata": {
        "id": "WUXz-BaiWgO8"
      },
      "outputs": [],
      "source": [
        "model_lstm.compile(optimizer='adam', loss='sparse_categorical_crossentropy', metrics=['accuracy'])"
      ]
    },
    {
      "cell_type": "code",
      "execution_count": null,
      "metadata": {
        "colab": {
          "base_uri": "https://localhost:8080/"
        },
        "id": "rk3aHqz3WzUk",
        "outputId": "61623454-3808-4cca-dbca-7f59fbd4367a"
      },
      "outputs": [
        {
          "name": "stdout",
          "output_type": "stream",
          "text": [
            "Model: \"sequential\"\n",
            "_________________________________________________________________\n",
            " Layer (type)                Output Shape              Param #   \n",
            "=================================================================\n",
            " embedding (Embedding)       (None, 66, 50)            250000    \n",
            "                                                                 \n",
            " bidirectional (Bidirectiona  (None, 200)              120800    \n",
            " l)                                                              \n",
            "                                                                 \n",
            " dense (Dense)               (None, 25)                5025      \n",
            "                                                                 \n",
            " dense_1 (Dense)             (None, 6)                 156       \n",
            "                                                                 \n",
            "=================================================================\n",
            "Total params: 375,981\n",
            "Trainable params: 375,981\n",
            "Non-trainable params: 0\n",
            "_________________________________________________________________\n",
            "None\n"
          ]
        }
      ],
      "source": [
        "print(model_lstm.summary())"
      ]
    },
    {
      "cell_type": "code",
      "execution_count": null,
      "metadata": {
        "colab": {
          "background_save": true,
          "base_uri": "https://localhost:8080/"
        },
        "id": "hWmJB3V3W4nZ",
        "outputId": "4170015b-5faf-4e19-fe87-c06718e7cddd"
      },
      "outputs": [
        {
          "name": "stdout",
          "output_type": "stream",
          "text": [
            "Epoch 1/100\n",
            "175/175 [==============================] - 30s 150ms/step - loss: 1.5384 - accuracy: 0.3442 - val_loss: 1.3598 - val_accuracy: 0.4600\n",
            "Epoch 2/100\n",
            "175/175 [==============================] - 23s 133ms/step - loss: 0.9634 - accuracy: 0.6412 - val_loss: 0.7602 - val_accuracy: 0.7281\n",
            "Epoch 3/100\n",
            "175/175 [==============================] - 24s 135ms/step - loss: 0.5116 - accuracy: 0.8197 - val_loss: 0.5717 - val_accuracy: 0.8087\n",
            "Epoch 4/100\n",
            "175/175 [==============================] - 24s 136ms/step - loss: 0.3192 - accuracy: 0.8924 - val_loss: 0.5560 - val_accuracy: 0.8229\n",
            "Epoch 5/100\n",
            "175/175 [==============================] - 23s 130ms/step - loss: 0.2304 - accuracy: 0.9221 - val_loss: 0.6277 - val_accuracy: 0.8202\n",
            "Epoch 6/100\n",
            "175/175 [==============================] - 23s 132ms/step - loss: 0.1760 - accuracy: 0.9388 - val_loss: 0.5940 - val_accuracy: 0.8225\n",
            "Epoch 7/100\n",
            "175/175 [==============================] - 23s 134ms/step - loss: 0.1481 - accuracy: 0.9503 - val_loss: 0.6260 - val_accuracy: 0.8192\n",
            "Epoch 8/100\n",
            "175/175 [==============================] - 23s 131ms/step - loss: 0.1199 - accuracy: 0.9584 - val_loss: 0.6899 - val_accuracy: 0.8267\n",
            "Epoch 9/100\n",
            "175/175 [==============================] - 24s 135ms/step - loss: 0.0976 - accuracy: 0.9661 - val_loss: 0.7433 - val_accuracy: 0.8281\n",
            "Epoch 10/100\n",
            "175/175 [==============================] - 23s 132ms/step - loss: 0.0856 - accuracy: 0.9712 - val_loss: 0.7647 - val_accuracy: 0.8152\n",
            "Epoch 11/100\n",
            "175/175 [==============================] - 24s 137ms/step - loss: 0.0841 - accuracy: 0.9711 - val_loss: 0.8286 - val_accuracy: 0.8202\n",
            "Epoch 12/100\n",
            "175/175 [==============================] - 24s 135ms/step - loss: 0.0708 - accuracy: 0.9749 - val_loss: 0.8774 - val_accuracy: 0.8171\n",
            "Epoch 13/100\n",
            "175/175 [==============================] - 23s 134ms/step - loss: 0.0580 - accuracy: 0.9799 - val_loss: 0.9020 - val_accuracy: 0.8229\n",
            "Epoch 14/100\n",
            "175/175 [==============================] - 24s 138ms/step - loss: 0.0621 - accuracy: 0.9795 - val_loss: 0.9170 - val_accuracy: 0.8140\n",
            "Epoch 15/100\n",
            "175/175 [==============================] - 23s 131ms/step - loss: 0.0442 - accuracy: 0.9841 - val_loss: 0.9951 - val_accuracy: 0.8127\n",
            "Epoch 16/100\n",
            "175/175 [==============================] - 23s 134ms/step - loss: 0.0424 - accuracy: 0.9851 - val_loss: 1.0632 - val_accuracy: 0.8204\n",
            "Epoch 17/100\n",
            "175/175 [==============================] - 23s 134ms/step - loss: 0.0347 - accuracy: 0.9873 - val_loss: 1.1223 - val_accuracy: 0.8160\n",
            "Epoch 18/100\n",
            "175/175 [==============================] - 24s 135ms/step - loss: 0.0367 - accuracy: 0.9868 - val_loss: 1.1197 - val_accuracy: 0.8165\n",
            "Epoch 19/100\n",
            "175/175 [==============================] - 23s 133ms/step - loss: 0.0452 - accuracy: 0.9829 - val_loss: 1.0719 - val_accuracy: 0.8142\n",
            "Epoch 20/100\n",
            "175/175 [==============================] - 23s 134ms/step - loss: 0.0423 - accuracy: 0.9862 - val_loss: 1.1134 - val_accuracy: 0.8121\n",
            "Epoch 21/100\n",
            "175/175 [==============================] - 23s 132ms/step - loss: 0.0288 - accuracy: 0.9904 - val_loss: 1.1558 - val_accuracy: 0.8183\n",
            "Epoch 22/100\n",
            "175/175 [==============================] - 23s 129ms/step - loss: 0.0272 - accuracy: 0.9904 - val_loss: 1.1510 - val_accuracy: 0.8154\n",
            "Epoch 23/100\n",
            "175/175 [==============================] - 23s 131ms/step - loss: 0.0347 - accuracy: 0.9882 - val_loss: 1.0865 - val_accuracy: 0.8148\n",
            "Epoch 24/100\n",
            "175/175 [==============================] - 23s 133ms/step - loss: 0.0254 - accuracy: 0.9914 - val_loss: 1.1828 - val_accuracy: 0.8173\n",
            "Epoch 25/100\n",
            "175/175 [==============================] - 23s 132ms/step - loss: 0.0178 - accuracy: 0.9935 - val_loss: 1.2122 - val_accuracy: 0.8169\n",
            "Epoch 26/100\n",
            "175/175 [==============================] - 23s 133ms/step - loss: 0.0153 - accuracy: 0.9951 - val_loss: 1.3194 - val_accuracy: 0.8146\n",
            "Epoch 27/100\n",
            "175/175 [==============================] - 24s 137ms/step - loss: 0.0166 - accuracy: 0.9945 - val_loss: 1.3864 - val_accuracy: 0.8154\n",
            "Epoch 28/100\n",
            "175/175 [==============================] - 24s 137ms/step - loss: 0.0257 - accuracy: 0.9910 - val_loss: 1.3352 - val_accuracy: 0.8148\n",
            "Epoch 29/100\n",
            "175/175 [==============================] - 24s 136ms/step - loss: 0.0292 - accuracy: 0.9899 - val_loss: 1.2027 - val_accuracy: 0.8148\n",
            "Epoch 30/100\n",
            "175/175 [==============================] - 23s 129ms/step - loss: 0.0243 - accuracy: 0.9915 - val_loss: 1.1914 - val_accuracy: 0.8131\n",
            "Epoch 31/100\n",
            "175/175 [==============================] - 22s 129ms/step - loss: 0.0278 - accuracy: 0.9901 - val_loss: 1.2135 - val_accuracy: 0.8177\n",
            "Epoch 32/100\n",
            "175/175 [==============================] - 23s 134ms/step - loss: 0.0158 - accuracy: 0.9944 - val_loss: 1.2613 - val_accuracy: 0.8183\n",
            "Epoch 33/100\n",
            "175/175 [==============================] - 23s 132ms/step - loss: 0.0133 - accuracy: 0.9952 - val_loss: 1.3033 - val_accuracy: 0.8204\n",
            "Epoch 34/100\n",
            "175/175 [==============================] - 23s 133ms/step - loss: 0.0121 - accuracy: 0.9953 - val_loss: 1.4311 - val_accuracy: 0.8156\n",
            "Epoch 35/100\n",
            "175/175 [==============================] - 24s 135ms/step - loss: 0.0169 - accuracy: 0.9948 - val_loss: 1.2830 - val_accuracy: 0.8144\n",
            "Epoch 36/100\n",
            "175/175 [==============================] - 24s 135ms/step - loss: 0.0131 - accuracy: 0.9954 - val_loss: 1.3202 - val_accuracy: 0.8171\n",
            "Epoch 37/100\n",
            "175/175 [==============================] - 23s 133ms/step - loss: 0.0131 - accuracy: 0.9946 - val_loss: 1.4296 - val_accuracy: 0.8185\n",
            "Epoch 38/100\n",
            "175/175 [==============================] - 24s 136ms/step - loss: 0.0113 - accuracy: 0.9957 - val_loss: 1.4033 - val_accuracy: 0.8160\n",
            "Epoch 39/100\n",
            "175/175 [==============================] - 24s 136ms/step - loss: 0.0107 - accuracy: 0.9959 - val_loss: 1.4188 - val_accuracy: 0.8198\n",
            "Epoch 40/100\n",
            "175/175 [==============================] - 25s 142ms/step - loss: 0.0095 - accuracy: 0.9956 - val_loss: 1.4763 - val_accuracy: 0.8210\n",
            "Epoch 41/100\n",
            "175/175 [==============================] - 23s 132ms/step - loss: 0.0137 - accuracy: 0.9940 - val_loss: 1.3784 - val_accuracy: 0.8163\n",
            "Epoch 42/100\n",
            "175/175 [==============================] - 24s 137ms/step - loss: 0.0189 - accuracy: 0.9937 - val_loss: 1.3506 - val_accuracy: 0.8198\n",
            "Epoch 43/100\n",
            "175/175 [==============================] - 23s 130ms/step - loss: 0.0187 - accuracy: 0.9933 - val_loss: 1.3520 - val_accuracy: 0.8129\n",
            "Epoch 44/100\n",
            "175/175 [==============================] - 23s 131ms/step - loss: 0.0253 - accuracy: 0.9927 - val_loss: 1.2545 - val_accuracy: 0.8085\n",
            "Epoch 45/100\n",
            "175/175 [==============================] - 24s 138ms/step - loss: 0.0192 - accuracy: 0.9927 - val_loss: 1.3093 - val_accuracy: 0.8096\n",
            "Epoch 46/100\n",
            "175/175 [==============================] - 24s 137ms/step - loss: 0.0174 - accuracy: 0.9940 - val_loss: 1.2378 - val_accuracy: 0.8133\n",
            "Epoch 47/100\n",
            "175/175 [==============================] - 24s 135ms/step - loss: 0.0103 - accuracy: 0.9957 - val_loss: 1.3644 - val_accuracy: 0.8133\n",
            "Epoch 48/100\n",
            "175/175 [==============================] - 24s 138ms/step - loss: 0.0103 - accuracy: 0.9959 - val_loss: 1.3383 - val_accuracy: 0.8090\n",
            "Epoch 49/100\n",
            "175/175 [==============================] - 23s 134ms/step - loss: 0.0095 - accuracy: 0.9957 - val_loss: 1.3512 - val_accuracy: 0.8165\n",
            "Epoch 50/100\n",
            "175/175 [==============================] - 24s 135ms/step - loss: 0.0076 - accuracy: 0.9965 - val_loss: 1.4271 - val_accuracy: 0.8129\n",
            "Epoch 51/100\n",
            "175/175 [==============================] - 24s 134ms/step - loss: 0.0083 - accuracy: 0.9962 - val_loss: 1.4229 - val_accuracy: 0.8133\n",
            "Epoch 52/100\n",
            "175/175 [==============================] - 24s 139ms/step - loss: 0.0077 - accuracy: 0.9968 - val_loss: 1.4084 - val_accuracy: 0.8152\n",
            "Epoch 53/100\n",
            "175/175 [==============================] - 23s 133ms/step - loss: 0.0070 - accuracy: 0.9971 - val_loss: 1.4640 - val_accuracy: 0.8138\n",
            "Epoch 54/100\n",
            "175/175 [==============================] - 23s 133ms/step - loss: 0.0069 - accuracy: 0.9967 - val_loss: 1.4695 - val_accuracy: 0.8144\n",
            "Epoch 55/100\n",
            "175/175 [==============================] - 23s 132ms/step - loss: 0.0077 - accuracy: 0.9962 - val_loss: 1.4706 - val_accuracy: 0.8135\n",
            "Epoch 56/100\n",
            "175/175 [==============================] - 24s 136ms/step - loss: 0.0074 - accuracy: 0.9966 - val_loss: 1.5165 - val_accuracy: 0.8108\n",
            "Epoch 57/100\n",
            "175/175 [==============================] - 24s 136ms/step - loss: 0.0078 - accuracy: 0.9966 - val_loss: 1.5267 - val_accuracy: 0.8125\n",
            "Epoch 58/100\n",
            "175/175 [==============================] - 24s 135ms/step - loss: 0.0086 - accuracy: 0.9959 - val_loss: 1.4540 - val_accuracy: 0.8069\n",
            "Epoch 59/100\n",
            "175/175 [==============================] - 23s 134ms/step - loss: 0.0318 - accuracy: 0.9901 - val_loss: 1.1725 - val_accuracy: 0.8131\n",
            "Epoch 60/100\n",
            "175/175 [==============================] - 23s 133ms/step - loss: 0.0292 - accuracy: 0.9896 - val_loss: 1.1428 - val_accuracy: 0.8121\n",
            "Epoch 61/100\n",
            "175/175 [==============================] - 24s 136ms/step - loss: 0.0118 - accuracy: 0.9946 - val_loss: 1.2405 - val_accuracy: 0.8158\n",
            "Epoch 62/100\n",
            "175/175 [==============================] - 23s 132ms/step - loss: 0.0088 - accuracy: 0.9962 - val_loss: 1.2244 - val_accuracy: 0.8175\n",
            "Epoch 63/100\n",
            "175/175 [==============================] - 24s 135ms/step - loss: 0.0070 - accuracy: 0.9971 - val_loss: 1.3522 - val_accuracy: 0.8160\n",
            "Epoch 64/100\n",
            "175/175 [==============================] - 23s 134ms/step - loss: 0.0069 - accuracy: 0.9965 - val_loss: 1.3532 - val_accuracy: 0.8177\n",
            "Epoch 65/100\n",
            "175/175 [==============================] - 23s 131ms/step - loss: 0.0065 - accuracy: 0.9971 - val_loss: 1.4302 - val_accuracy: 0.8177\n",
            "Epoch 66/100\n",
            "175/175 [==============================] - 24s 136ms/step - loss: 0.0067 - accuracy: 0.9965 - val_loss: 1.4314 - val_accuracy: 0.8165\n",
            "Epoch 67/100\n",
            "175/175 [==============================] - 24s 140ms/step - loss: 0.0069 - accuracy: 0.9964 - val_loss: 1.4413 - val_accuracy: 0.8131\n",
            "Epoch 68/100\n",
            "175/175 [==============================] - 24s 137ms/step - loss: 0.0059 - accuracy: 0.9970 - val_loss: 1.4600 - val_accuracy: 0.8144\n",
            "Epoch 69/100\n",
            "175/175 [==============================] - 24s 135ms/step - loss: 0.0063 - accuracy: 0.9966 - val_loss: 1.5217 - val_accuracy: 0.8148\n",
            "Epoch 70/100\n",
            "175/175 [==============================] - 24s 137ms/step - loss: 0.0066 - accuracy: 0.9969 - val_loss: 1.4839 - val_accuracy: 0.8146\n",
            "Epoch 71/100\n",
            "175/175 [==============================] - 24s 136ms/step - loss: 0.0062 - accuracy: 0.9970 - val_loss: 1.4959 - val_accuracy: 0.8133\n",
            "Epoch 72/100\n",
            "175/175 [==============================] - 23s 134ms/step - loss: 0.0064 - accuracy: 0.9972 - val_loss: 1.5566 - val_accuracy: 0.8150\n",
            "Epoch 73/100\n",
            "175/175 [==============================] - 24s 135ms/step - loss: 0.0070 - accuracy: 0.9967 - val_loss: 1.4398 - val_accuracy: 0.8112\n",
            "Epoch 74/100\n",
            "175/175 [==============================] - 23s 133ms/step - loss: 0.0105 - accuracy: 0.9956 - val_loss: 1.4489 - val_accuracy: 0.8173\n",
            "Epoch 75/100\n",
            "175/175 [==============================] - 24s 135ms/step - loss: 0.0163 - accuracy: 0.9944 - val_loss: 1.2527 - val_accuracy: 0.8177\n",
            "Epoch 76/100\n",
            "175/175 [==============================] - 23s 133ms/step - loss: 0.0125 - accuracy: 0.9952 - val_loss: 1.3324 - val_accuracy: 0.8200\n",
            "Epoch 77/100\n",
            "175/175 [==============================] - 23s 134ms/step - loss: 0.0138 - accuracy: 0.9954 - val_loss: 1.3160 - val_accuracy: 0.8196\n",
            "Epoch 78/100\n",
            "175/175 [==============================] - 24s 136ms/step - loss: 0.0084 - accuracy: 0.9962 - val_loss: 1.2706 - val_accuracy: 0.8117\n",
            "Epoch 79/100\n",
            "175/175 [==============================] - 23s 134ms/step - loss: 0.0076 - accuracy: 0.9968 - val_loss: 1.3368 - val_accuracy: 0.8185\n",
            "Epoch 80/100\n",
            "175/175 [==============================] - 24s 138ms/step - loss: 0.0082 - accuracy: 0.9965 - val_loss: 1.3867 - val_accuracy: 0.8204\n",
            "Epoch 81/100\n",
            "175/175 [==============================] - 24s 135ms/step - loss: 0.0110 - accuracy: 0.9958 - val_loss: 1.3819 - val_accuracy: 0.8140\n",
            "Epoch 82/100\n",
            "175/175 [==============================] - 23s 134ms/step - loss: 0.0067 - accuracy: 0.9964 - val_loss: 1.3869 - val_accuracy: 0.8173\n",
            "Epoch 83/100\n",
            "175/175 [==============================] - 23s 133ms/step - loss: 0.0063 - accuracy: 0.9969 - val_loss: 1.4278 - val_accuracy: 0.8198\n",
            "Epoch 84/100\n",
            "175/175 [==============================] - 23s 132ms/step - loss: 0.0064 - accuracy: 0.9967 - val_loss: 1.4368 - val_accuracy: 0.8181\n",
            "Epoch 85/100\n",
            "175/175 [==============================] - 24s 139ms/step - loss: 0.0060 - accuracy: 0.9971 - val_loss: 1.3790 - val_accuracy: 0.8169\n",
            "Epoch 86/100\n",
            "175/175 [==============================] - 24s 135ms/step - loss: 0.0057 - accuracy: 0.9967 - val_loss: 1.4144 - val_accuracy: 0.8185\n",
            "Epoch 87/100\n",
            "175/175 [==============================] - 23s 132ms/step - loss: 0.0062 - accuracy: 0.9972 - val_loss: 1.4587 - val_accuracy: 0.8173\n",
            "Epoch 88/100\n",
            "175/175 [==============================] - 24s 138ms/step - loss: 0.0060 - accuracy: 0.9971 - val_loss: 1.4686 - val_accuracy: 0.8167\n",
            "Epoch 89/100\n",
            "175/175 [==============================] - 24s 136ms/step - loss: 0.0060 - accuracy: 0.9972 - val_loss: 1.4802 - val_accuracy: 0.8175\n",
            "Epoch 90/100\n",
            "175/175 [==============================] - 24s 135ms/step - loss: 0.0063 - accuracy: 0.9969 - val_loss: 1.4447 - val_accuracy: 0.8177\n",
            "Epoch 91/100\n",
            "175/175 [==============================] - 24s 136ms/step - loss: 0.0058 - accuracy: 0.9969 - val_loss: 1.4587 - val_accuracy: 0.8171\n",
            "Epoch 92/100\n",
            "175/175 [==============================] - 24s 139ms/step - loss: 0.0057 - accuracy: 0.9971 - val_loss: 1.5181 - val_accuracy: 0.8140\n",
            "Epoch 93/100\n",
            "175/175 [==============================] - 25s 142ms/step - loss: 0.0075 - accuracy: 0.9969 - val_loss: 1.4971 - val_accuracy: 0.8042\n",
            "Epoch 94/100\n",
            "175/175 [==============================] - 23s 132ms/step - loss: 0.0226 - accuracy: 0.9918 - val_loss: 1.3132 - val_accuracy: 0.8183\n",
            "Epoch 95/100\n",
            "175/175 [==============================] - 24s 137ms/step - loss: 0.0201 - accuracy: 0.9925 - val_loss: 1.1830 - val_accuracy: 0.8188\n",
            "Epoch 96/100\n",
            "175/175 [==============================] - 24s 136ms/step - loss: 0.0087 - accuracy: 0.9962 - val_loss: 1.2822 - val_accuracy: 0.8156\n",
            "Epoch 97/100\n",
            "175/175 [==============================] - 23s 132ms/step - loss: 0.0059 - accuracy: 0.9971 - val_loss: 1.3529 - val_accuracy: 0.8190\n",
            "Epoch 98/100\n",
            "175/175 [==============================] - 23s 132ms/step - loss: 0.0059 - accuracy: 0.9971 - val_loss: 1.3482 - val_accuracy: 0.8213\n",
            "Epoch 99/100\n",
            "175/175 [==============================] - 23s 134ms/step - loss: 0.0049 - accuracy: 0.9974 - val_loss: 1.3859 - val_accuracy: 0.8183\n",
            "Epoch 100/100\n",
            "175/175 [==============================] - 23s 132ms/step - loss: 0.0055 - accuracy: 0.9971 - val_loss: 1.3943 - val_accuracy: 0.8200\n"
          ]
        },
        {
          "data": {
            "text/plain": [
              "<keras.callbacks.History at 0x7fe679107350>"
            ]
          },
          "execution_count": null,
          "metadata": {},
          "output_type": "execute_result"
        }
      ],
      "source": [
        "model_lstm.fit(x_train,y_train,validation_data=(x_test,y_test),epochs=100,batch_size=64)"
      ]
    },
    {
      "cell_type": "code",
      "execution_count": null,
      "metadata": {
        "colab": {
          "base_uri": "https://localhost:8080/"
        },
        "id": "BPPPC5LCYpWP",
        "outputId": "7af8a15b-ee79-4003-d7c8-7327bcdce322"
      },
      "outputs": [
        {
          "data": {
            "text/plain": [
              "array([[1.3064305e-06, 1.7486733e-05, 2.5759414e-07, 3.5428721e-07,\n",
              "        9.9997818e-01, 2.3653424e-06],\n",
              "       [9.8775196e-01, 1.9939669e-04, 8.1012557e-09, 5.6659095e-09,\n",
              "        1.2046601e-02, 2.0666398e-06],\n",
              "       [1.0000000e+00, 6.1327965e-10, 2.0723558e-10, 1.9794802e-12,\n",
              "        9.6322048e-11, 3.3208341e-08],\n",
              "       ...,\n",
              "       [3.2414504e-05, 3.9429299e-08, 1.0537905e-04, 5.8322456e-07,\n",
              "        5.4664948e-08, 9.9986160e-01],\n",
              "       [2.1039383e-04, 3.7364551e-08, 2.2060275e-01, 7.7508819e-01,\n",
              "        1.3843483e-03, 2.7143529e-03],\n",
              "       [2.7935264e-06, 9.9999642e-01, 7.4892682e-07, 7.9700819e-16,\n",
              "        8.2956888e-08, 1.5766032e-08]], dtype=float32)"
            ]
          },
          "execution_count": 26,
          "metadata": {},
          "output_type": "execute_result"
        }
      ],
      "source": [
        "y_pred=model_lstm.predict(x_test)\n",
        "y_pred\n"
      ]
    },
    {
      "cell_type": "code",
      "execution_count": null,
      "metadata": {
        "id": "m-qAFg8FYzUh"
      },
      "outputs": [],
      "source": [
        "y_p=[np.argmax(element) for element in y_pred]"
      ]
    },
    {
      "cell_type": "code",
      "execution_count": null,
      "metadata": {
        "colab": {
          "base_uri": "https://localhost:8080/"
        },
        "id": "oY_UJ26pZB7y",
        "outputId": "7c9428ea-d416-49ae-d9c5-d07de636b075"
      },
      "outputs": [
        {
          "data": {
            "text/plain": [
              "[4, 0, 0, 0, 5]"
            ]
          },
          "execution_count": 29,
          "metadata": {},
          "output_type": "execute_result"
        }
      ],
      "source": [
        "y_p[0:5]"
      ]
    },
    {
      "cell_type": "code",
      "execution_count": null,
      "metadata": {
        "colab": {
          "base_uri": "https://localhost:8080/"
        },
        "id": "3GYVkjg-ZHj_",
        "outputId": "a6edda28-8a44-4fa6-e9ba-45ab6176e5ec"
      },
      "outputs": [
        {
          "name": "stdout",
          "output_type": "stream",
          "text": [
            "              precision    recall  f1-score   support\n",
            "\n",
            "           0       0.88      0.88      0.88      1390\n",
            "           1       0.83      0.83      0.83       640\n",
            "           2       0.62      0.59      0.60       401\n",
            "           3       0.62      0.63      0.63       167\n",
            "           4       0.80      0.79      0.79       570\n",
            "           5       0.85      0.85      0.85      1632\n",
            "\n",
            "    accuracy                           0.82      4800\n",
            "   macro avg       0.76      0.76      0.76      4800\n",
            "weighted avg       0.82      0.82      0.82      4800\n",
            "\n"
          ]
        }
      ],
      "source": [
        "from sklearn.metrics import classification_report\n",
        "print(classification_report(y_test, y_p))"
      ]
    },
    {
      "cell_type": "code",
      "execution_count": null,
      "metadata": {
        "colab": {
          "base_uri": "https://localhost:8080/"
        },
        "id": "iWLznyocZYoM",
        "outputId": "e3788235-48ac-4cbc-8764-3e8ca7593f90"
      },
      "outputs": [
        {
          "data": {
            "text/plain": [
              "0.8220833333333334"
            ]
          },
          "execution_count": 33,
          "metadata": {},
          "output_type": "execute_result"
        }
      ],
      "source": [
        "from sklearn.metrics import accuracy_score\n",
        "accuracy_score(y_test,y_p)"
      ]
    },
    {
      "cell_type": "markdown",
      "source": [
        "## ACCURACY IS 82% and precision recall and f1-score are good "
      ],
      "metadata": {
        "id": "xvCs9yZfFtcL"
      }
    },
    {
      "cell_type": "code",
      "execution_count": null,
      "metadata": {
        "id": "HCna6VbMcMsi"
      },
      "outputs": [],
      "source": [
        "def input_word(s):\n",
        "  voc_size=5000\n",
        "  o=[one_hot(words,voc_size)for words in s]\n",
        "  e=pad_sequences(o,padding='pre',maxlen=z.max())\n",
        "  e=np.array(e)\n",
        "  return e\n"
      ]
    },
    {
      "cell_type": "code",
      "execution_count": null,
      "metadata": {
        "colab": {
          "base_uri": "https://localhost:8080/"
        },
        "id": "HVKtdDPvdD3X",
        "outputId": "645d6fd8-8456-4b55-d2db-9f0f964b4f2a"
      },
      "outputs": [
        {
          "data": {
            "text/plain": [
              "array([[   0,    0,    0,    0,    0,    0,    0,    0,    0,    0,    0,\n",
              "           0,    0,    0,    0,    0,    0,    0,    0,    0,    0,    0,\n",
              "           0,    0,    0,    0,    0,    0,    0,    0,    0,    0,    0,\n",
              "           0,    0,    0,    0,    0,    0,    0,    0,    0,    0,    0,\n",
              "           0,    0,    0,    0,    0,    0,    0,    0,    0,    0,    0,\n",
              "           0,    0, 4608,  868, 4887, 3944, 3296, 1887,  668,   92,  868]],\n",
              "      dtype=int32)"
            ]
          },
          "execution_count": 40,
          "metadata": {},
          "output_type": "execute_result"
        }
      ],
      "source": [
        "k=input_word(f)\n",
        "k"
      ]
    },
    {
      "cell_type": "code",
      "execution_count": null,
      "metadata": {
        "colab": {
          "base_uri": "https://localhost:8080/"
        },
        "id": "vrw0epBXdMoL",
        "outputId": "961f280b-0be2-49c0-cb36-2b3cf355f23a"
      },
      "outputs": [
        {
          "data": {
            "text/plain": [
              "5"
            ]
          },
          "execution_count": 42,
          "metadata": {},
          "output_type": "execute_result"
        }
      ],
      "source": [
        "np.argmax(model_lstm.predict(k))"
      ]
    },
    {
      "cell_type": "code",
      "execution_count": null,
      "metadata": {
        "colab": {
          "base_uri": "https://localhost:8080/"
        },
        "id": "43AI9QKXdlkO",
        "outputId": "4f9d2600-c8b4-41fb-d0dd-a637c4e5af7e"
      },
      "outputs": [
        {
          "data": {
            "text/plain": [
              "1"
            ]
          },
          "execution_count": 43,
          "metadata": {},
          "output_type": "execute_result"
        }
      ],
      "source": [
        "f=['this is very dangerous ']\n",
        "k=input_word(f)\n",
        "np.argmax(model_lstm.predict(k))"
      ]
    },
    {
      "cell_type": "code",
      "execution_count": null,
      "metadata": {
        "id": "GcICHZvmedmv"
      },
      "outputs": [],
      "source": [
        "def predict_emotion(r):\n",
        "  emotion=['sadness', 'anger', 'love', 'surprise', 'fear', 'joy']\n",
        "  return emotion[np.argmax(model_lstm.predict(input_word(r)))]"
      ]
    },
    {
      "cell_type": "code",
      "execution_count": null,
      "metadata": {
        "colab": {
          "base_uri": "https://localhost:8080/",
          "height": 36
        },
        "id": "WHlVJOAge2Qj",
        "outputId": "f74c6547-d012-4243-8f05-e4ee9f4c9511"
      },
      "outputs": [
        {
          "output_type": "execute_result",
          "data": {
            "text/plain": [
              "'joy'"
            ],
            "application/vnd.google.colaboratory.intrinsic+json": {
              "type": "string"
            }
          },
          "metadata": {},
          "execution_count": 78
        }
      ],
      "source": [
        "predict_emotion(['Trends on SGX Nifty indicate a positive opening'])"
      ]
    }
  ],
  "metadata": {
    "accelerator": "GPU",
    "colab": {
      "name": "EMOTION DETECTION.ipynb",
      "provenance": [],
      "collapsed_sections": []
    },
    "gpuClass": "standard",
    "kernelspec": {
      "display_name": "Python 3",
      "name": "python3"
    },
    "language_info": {
      "name": "python"
    }
  },
  "nbformat": 4,
  "nbformat_minor": 0
}